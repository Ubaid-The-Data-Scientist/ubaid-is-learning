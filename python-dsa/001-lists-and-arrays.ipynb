{
 "cells": [
  {
   "cell_type": "markdown",
   "id": "7d1a8629",
   "metadata": {},
   "source": [
    "# Lists:\n",
    "- Dynamic array\n",
    "- Ordered, mutable.\n",
    "- Can contain elements of different types."
   ]
  },
  {
   "cell_type": "code",
   "execution_count": null,
   "id": "395b4c80",
   "metadata": {},
   "outputs": [],
   "source": [
    "# Empty list\n",
    "x = []\n",
    "\n",
    "# List with initial values\n",
    "y = [1, 2, 3, 4, 5]\n",
    "\n",
    "# List with mixed types\n",
    "z = [1, \"hello\", 3.14, True]"
   ]
  },
  {
   "cell_type": "markdown",
   "id": "be31d8b9",
   "metadata": {},
   "source": [
    "### List Methods:\n",
    "- Lists have several built-in algorithms called methods.\n",
    "- Appending, Sorting, etc..."
   ]
  },
  {
   "cell_type": "code",
   "execution_count": 2,
   "id": "29410f0a",
   "metadata": {},
   "outputs": [
    {
     "name": "stdout",
     "output_type": "stream",
     "text": [
      "[9, 12, 7, 4, 11, 8]\n",
      "[4, 7, 8, 9, 11, 12]\n"
     ]
    }
   ],
   "source": [
    "# Append\n",
    "x = [9, 12, 7, 4, 11]\n",
    "x.append(8)\n",
    "print(x)\n",
    "\n",
    "# Sort\n",
    "x.sort()\n",
    "print(x)"
   ]
  },
  {
   "cell_type": "markdown",
   "id": "4965d468",
   "metadata": {},
   "source": [
    "### Algorithms\n",
    "- If we want to perform actions which are not available in python, we have to built our own algorithms."
   ]
  },
  {
   "cell_type": "code",
   "execution_count": 5,
   "id": "2ba8a8fa",
   "metadata": {},
   "outputs": [
    {
     "name": "stdout",
     "output_type": "stream",
     "text": [
      "1\n"
     ]
    }
   ],
   "source": [
    "# Create an algorithm to find the lowest value in a list:\n",
    "\n",
    "my_array = [4, 7, 1, 9, 13]\n",
    "min_val = my_array[0]\n",
    "\n",
    "for i in my_array:\n",
    "    if i < min_val:\n",
    "        min_val = i\n",
    "\n",
    "print(min_val)"
   ]
  },
  {
   "cell_type": "markdown",
   "id": "9041ba60",
   "metadata": {},
   "source": [
    "### Optimization:\n",
    "- The above algorithm is very simple and fast enough for smaller datasets, but is the data is big enough, any algorithm will take time to run. \n",
    "- This is where optimization comes in.\n",
    "- Optimization is an important part of DSA programming."
   ]
  },
  {
   "cell_type": "markdown",
   "id": "fab04576",
   "metadata": {},
   "source": [
    "### Time Complexity:\n",
    "- When exploring algorithms, we often look at how much time an algorithm takes to run relative to the size of the data set.\n",
    "- For instance, the above loop runs len(my_array) times. If array have 1000s of values, then loop will also run 100s of time.\n",
    "- Each algorithm time complexity: [Here](https://www.w3schools.com/dsa/dsa_timecomplexity_theory.php) (Visit Later)"
   ]
  },
  {
   "cell_type": "code",
   "execution_count": null,
   "id": "4be4a7da",
   "metadata": {},
   "outputs": [],
   "source": []
  }
 ],
 "metadata": {
  "kernelspec": {
   "display_name": "venv",
   "language": "python",
   "name": "python3"
  },
  "language_info": {
   "codemirror_mode": {
    "name": "ipython",
    "version": 3
   },
   "file_extension": ".py",
   "mimetype": "text/x-python",
   "name": "python",
   "nbconvert_exporter": "python",
   "pygments_lexer": "ipython3",
   "version": "3.12.1"
  }
 },
 "nbformat": 4,
 "nbformat_minor": 5
}
