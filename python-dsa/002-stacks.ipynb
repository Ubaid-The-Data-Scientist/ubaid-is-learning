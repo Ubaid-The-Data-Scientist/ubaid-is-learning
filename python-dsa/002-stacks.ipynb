{
 "cells": [
  {
   "cell_type": "markdown",
   "id": "45fcc6af",
   "metadata": {},
   "source": [
    "# Stacks\n",
    "- Linear data structure.\n",
    "- Follows the Last-In-First-Out (LIFO) principle.\n",
    "- You can only add or remove from top on a stack of plates.\n",
    "<br><br>\n",
    "- Can be implemented using lists or linked lists.\n",
    "- Can be used to implement undo mechanisms."
   ]
  },
  {
   "cell_type": "markdown",
   "id": "4cd8303e",
   "metadata": {},
   "source": [
    "### Stacks Using List:\n",
    "Some basic operations are:\n",
    "- **Push**: Add new element on the stack.\n",
    "- **Pop**: Removes and return the top element of the stack.\n",
    "- **Peek**: return the top element of the stack."
   ]
  },
  {
   "cell_type": "code",
   "execution_count": 1,
   "id": "0a716c42",
   "metadata": {},
   "outputs": [
    {
     "name": "stdout",
     "output_type": "stream",
     "text": [
      "stack: []\n",
      "Pushed elements into the stack: [1, 2, 3]\n",
      "Poped element 3 from the stack: [1, 2]\n",
      "Top element is 2 of the stack: [1, 2]\n",
      "Size of stack: 2\n",
      "isEmpty:  False\n"
     ]
    }
   ],
   "source": [
    "# Stack using list \n",
    "stack = []\n",
    "print(f\"stack: {stack}\")\n",
    "\n",
    "# Push\n",
    "stack.append(1)\n",
    "stack.append(2)\n",
    "stack.append(3)\n",
    "print(f\"Pushed elements into the stack: {stack}\")\n",
    "\n",
    "# Pop\n",
    "pop = stack.pop()\n",
    "print(f\"Poped element {pop} from the stack: {stack}\")\n",
    "\n",
    "# Peek\n",
    "top_element = stack[-1]\n",
    "print(f\"Top element is {top_element} of the stack: {stack}\")\n",
    "\n",
    "# Size\n",
    "size = len(stack)\n",
    "print(f\"Size of stack: {size}\")\n",
    "\n",
    "# isEmpty\n",
    "isEmpty = not bool(stack)\n",
    "print(\"isEmpty: \", isEmpty)\n"
   ]
  },
  {
   "cell_type": "code",
   "execution_count": 7,
   "id": "1fe60bcc",
   "metadata": {},
   "outputs": [],
   "source": [
    "# Let's create a stack class\n",
    "\n",
    "class Stack:\n",
    "    def __init__(self):\n",
    "        self.stack = []\n",
    "\n",
    "    def push(self, element):\n",
    "        self.stack.append(element)\n",
    "    \n",
    "    def pop(self):\n",
    "        if self.isEmpty():\n",
    "            return \"Stack is Empty\"\n",
    "        else:\n",
    "            return self.stack.pop()\n",
    "    \n",
    "    def peek(self):\n",
    "        if self.isEmpty():\n",
    "            return \"Stack is Empty\"\n",
    "        else:\n",
    "            return self.stack[-1]\n",
    "        \n",
    "    def size(self):\n",
    "        return len(self.stack)\n",
    "    \n",
    "    def isEmpty(self):\n",
    "        return len(self.stack) == 0"
   ]
  },
  {
   "cell_type": "code",
   "execution_count": 8,
   "id": "4ea573f5",
   "metadata": {},
   "outputs": [
    {
     "name": "stdout",
     "output_type": "stream",
     "text": [
      "Stack:  ['A', 'B', 'C']\n",
      "Pop:  C\n",
      "Stack after Pop:  ['A', 'B']\n",
      "Peek:  B\n",
      "isEmpty:  False\n",
      "Size:  2\n"
     ]
    }
   ],
   "source": [
    "myStack = Stack()\n",
    "\n",
    "myStack.push('A')\n",
    "myStack.push('B')\n",
    "myStack.push('C')\n",
    "\n",
    "print(\"Stack: \", myStack.stack)\n",
    "print(\"Pop: \", myStack.pop())\n",
    "print(\"Stack after Pop: \", myStack.stack)\n",
    "print(\"Peek: \", myStack.peek())\n",
    "print(\"isEmpty: \", myStack.isEmpty())\n",
    "print(\"Size: \", myStack.size())"
   ]
  },
  {
   "cell_type": "code",
   "execution_count": null,
   "id": "807b8152",
   "metadata": {},
   "outputs": [],
   "source": []
  }
 ],
 "metadata": {
  "kernelspec": {
   "display_name": "venv",
   "language": "python",
   "name": "python3"
  },
  "language_info": {
   "codemirror_mode": {
    "name": "ipython",
    "version": 3
   },
   "file_extension": ".py",
   "mimetype": "text/x-python",
   "name": "python",
   "nbconvert_exporter": "python",
   "pygments_lexer": "ipython3",
   "version": "3.12.1"
  }
 },
 "nbformat": 4,
 "nbformat_minor": 5
}
